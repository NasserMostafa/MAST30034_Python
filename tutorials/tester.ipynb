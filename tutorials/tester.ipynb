{
 "cells": [
  {
   "cell_type": "code",
   "execution_count": 1,
   "metadata": {},
   "outputs": [
    {
     "name": "stderr",
     "output_type": "stream",
     "text": [
      "Setting default log level to \"WARN\".\n",
      "To adjust logging level use sc.setLogLevel(newLevel). For SparkR, use setLogLevel(newLevel).\n",
      "24/07/30 15:52:41 WARN NativeCodeLoader: Unable to load native-hadoop library for your platform... using builtin-java classes where applicable\n",
      "24/07/30 15:52:43 WARN Utils: Service 'SparkUI' could not bind on port 4040. Attempting port 4041.\n",
      "24/07/30 15:52:43 WARN Utils: Service 'SparkUI' could not bind on port 4041. Attempting port 4042.\n"
     ]
    },
    {
     "name": "stdout",
     "output_type": "stream",
     "text": [
      "\u001b[92m\u001b[1mSuccess! Your environment is set up and you are ready for the first workshop.\u001b[0m\n"
     ]
    }
   ],
   "source": [
    "import base64\n",
    "import traceback\n",
    "RED = '\\033[91m'\n",
    "GREEN = '\\033[92m'\n",
    "BOLD = '\\033[1m'\n",
    "RESET = '\\033[0m'\n",
    "\n",
    "try:\n",
    "    from pyspark.sql import SparkSession\n",
    "    # Create a spark session (which will run spark jobs)\n",
    "    spark = (\n",
    "        SparkSession.builder.appName(\"MAST30034 Tutorial\")\n",
    "        .config(\"spark.sql.repl.eagerEval.enabled\", True) \n",
    "        .config(\"spark.sql.parquet.cacheMetadata\", \"true\")\n",
    "        .config(\"spark.sql.session.timeZone\", \"Etc/UTC\")\n",
    "        .getOrCreate()\n",
    "    )\n",
    "    print(f\"{GREEN}{BOLD}Success! Your environment is set up and you are ready for the first workshop.{RESET}\")\n",
    "except Exception as e:\n",
    "    print(f\"{RED}{BOLD}Something went wrong. Reinstall and try again.{RESET}\")\n",
    "    traceback.print_exc()"
   ]
  }
 ],
 "metadata": {
  "kernelspec": {
   "display_name": "base",
   "language": "python",
   "name": "python3"
  },
  "language_info": {
   "codemirror_mode": {
    "name": "ipython",
    "version": 3
   },
   "file_extension": ".py",
   "mimetype": "text/x-python",
   "name": "python",
   "nbconvert_exporter": "python",
   "pygments_lexer": "ipython3",
   "version": "3.11.5"
  }
 },
 "nbformat": 4,
 "nbformat_minor": 2
}
